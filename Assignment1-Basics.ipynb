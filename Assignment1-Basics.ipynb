{
 "cells": [
  {
   "cell_type": "code",
   "execution_count": 1,
   "metadata": {},
   "outputs": [
    {
     "name": "stdout",
     "output_type": "stream",
     "text": [
      "Enter a number:81\n",
      "9.0\n"
     ]
    }
   ],
   "source": [
    "# Write a program find square root of a number.\n",
    "inp=input(\"Enter a number:\")\n",
    "sqrt_inp=int(inp)**0.5\n",
    "print(round(sqrt_inp,3))"
   ]
  },
  {
   "cell_type": "code",
   "execution_count": 2,
   "metadata": {},
   "outputs": [
    {
     "name": "stdout",
     "output_type": "stream",
     "text": [
      "Enter a number:64\n",
      "8.0\n"
     ]
    }
   ],
   "source": [
    "# Write a program to find out perfect square\n",
    "inp=input(\"Enter a number:\")\n",
    "sqrt_inp=int(inp)**0.5\n",
    "if sqrt_inp==round(sqrt_inp):\n",
    "    print(sqrt_inp)\n",
    "else:\n",
    "    print(\"Not a perfect square\")"
   ]
  },
  {
   "cell_type": "code",
   "execution_count": 3,
   "metadata": {},
   "outputs": [
    {
     "name": "stdout",
     "output_type": "stream",
     "text": [
      "Enter side-1:3\n",
      "Enter side-2:4\n",
      "Enter side-3:5\n",
      "6.0\n"
     ]
    }
   ],
   "source": [
    "# Python Program to find the area of triangle\n",
    "side1=input(\"Enter side-1:\")\n",
    "side2=input(\"Enter side-2:\")\n",
    "side3=input(\"Enter side-3:\")\n",
    "\n",
    "s=(float(side1)+float(side2)+float(side3))/2\n",
    "Area=(s*(s-float(side1))*(s-float(side2))*(s-float(side3)))**0.5\n",
    "print(Area)"
   ]
  },
  {
   "cell_type": "code",
   "execution_count": 5,
   "metadata": {},
   "outputs": [
    {
     "name": "stdout",
     "output_type": "stream",
     "text": [
      "Enter 1st number:45\n",
      "Enter 2nd number:69\n",
      "After swapping, the nos. are :  69 45\n"
     ]
    }
   ],
   "source": [
    "\n",
    "# Python program to swap two variables provided by the user without temporary variable# Pytho \n",
    "inp1=input(\"Enter 1st number:\")\n",
    "inp2=input(\"Enter 2nd number:\")\n",
    "\n",
    "inp1=int(inp1)+int(inp2)\n",
    "inp2=int(inp1)-int(inp2)\n",
    "inp1=int(inp1)-int(inp2)\n",
    "\n",
    "print(\"After swapping, the nos. are : \",inp1,inp2)"
   ]
  },
  {
   "cell_type": "code",
   "execution_count": 6,
   "metadata": {},
   "outputs": [
    {
     "name": "stdout",
     "output_type": "stream",
     "text": [
      "Enter a Year:1990\n",
      "Not a leap year\n"
     ]
    }
   ],
   "source": [
    "# Python program to check if the input year is a leap year or not\n",
    "Year=int(input(\"Enter a Year:\"))\n",
    "if Year % 4 ==0:\n",
    "    if Year % 100 == 0:\n",
    "        if Year % 400 == 0:\n",
    "            print(\"Leap Year\")\n",
    "        else:\n",
    "            print(\"Not a leap year\")\n",
    "    else:\n",
    "        print(\"Leap Year\")\n",
    "else:\n",
    "    print(\"Not a leap year\")"
   ]
  },
  {
   "cell_type": "code",
   "execution_count": 7,
   "metadata": {},
   "outputs": [
    {
     "name": "stdout",
     "output_type": "stream",
     "text": [
      "Enter a number:5\n",
      "0\n",
      "1\n",
      "1\n",
      "2\n",
      "3\n"
     ]
    }
   ],
   "source": [
    "\n",
    "# Program to display the Fibonacci sequence up to n-th term where n is provided by the user# Progr \n",
    "def fib_series(n):\n",
    "    if n ==0:\n",
    "        return 0\n",
    "    elif n == 1:\n",
    "        return 1\n",
    "    else:\n",
    "        return (fib_series(n-2)+fib_series(n-1))\n",
    "n=int(input(\"Enter a number:\"))\n",
    "for i in range(0,n):\n",
    "    print(fib_series(i))"
   ]
  },
  {
   "cell_type": "code",
   "execution_count": 10,
   "metadata": {},
   "outputs": [
    {
     "name": "stdout",
     "output_type": "stream",
     "text": [
      "Enter a number:153\n",
      "Wow! This is an armstrong number!\n"
     ]
    }
   ],
   "source": [
    "# Python program to check if the number provided by the user is an Armstrong number or not\n",
    "inp=int(input(\"Enter a number:\"))\n",
    "s=0\n",
    "q=inp\n",
    "while q>0:\n",
    "    d = q % 10\n",
    "    s+= d ** len(str(inp))\n",
    "    q //= 10\n",
    "if s==inp:\n",
    "    print(\"Wow! This is an armstrong number!\")\n",
    "else:\n",
    "    print(\"Nope, it's not an armstrong number!\")"
   ]
  },
  {
   "cell_type": "code",
   "execution_count": 17,
   "metadata": {},
   "outputs": [
    {
     "name": "stdout",
     "output_type": "stream",
     "text": [
      "How many terms? 5\n",
      "2 raised to power 0 is 1\n",
      "2 raised to power 1 is 2\n",
      "2 raised to power 2 is 4\n",
      "2 raised to power 3 is 8\n",
      "2 raised to power 4 is 16\n"
     ]
    }
   ],
   "source": [
    "# Python Program to display the powers of 2 using anonymous function\n",
    "\n",
    "terms = int(input(\"How many terms? \"))\n",
    "result = list(map(lambda x: 2 ** x, range(terms)))\n",
    "for i in range(terms):\n",
    "    print(\"2 raised to power\",i,\"is\",result[i])\n"
   ]
  }
 ],
 "metadata": {
  "kernelspec": {
   "display_name": "Python 3",
   "language": "python",
   "name": "python3"
  },
  "language_info": {
   "codemirror_mode": {
    "name": "ipython",
    "version": 3
   },
   "file_extension": ".py",
   "mimetype": "text/x-python",
   "name": "python",
   "nbconvert_exporter": "python",
   "pygments_lexer": "ipython3",
   "version": "3.6.3"
  }
 },
 "nbformat": 4,
 "nbformat_minor": 2
}
